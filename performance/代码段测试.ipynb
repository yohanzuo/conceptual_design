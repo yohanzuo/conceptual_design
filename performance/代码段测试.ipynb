{
 "cells": [
  {
   "cell_type": "code",
   "execution_count": 9,
   "metadata": {
    "collapsed": true
   },
   "outputs": [
    {
     "name": "stdout",
     "output_type": "stream",
     "text": [
      "[  0.84147098   7.27437941  11.43072065] -774.965755195\n"
     ]
    }
   ],
   "source": [
    "import numpy as np\n",
    "\n",
    "\n",
    "def f(x):\n",
    "    return np.sin(x)*x*x**x\n",
    "a = np.array([1, 2, 3])\n",
    "b = 4\n",
    "print(f(a),f(b))"
   ]
  },
  {
   "cell_type": "code",
   "execution_count": 20,
   "metadata": {},
   "outputs": [
    {
     "name": "stdout",
     "output_type": "stream",
     "text": [
      "4540.820072714975\n"
     ]
    }
   ],
   "source": [
    "W_DG=7484\n",
    "W_empty=0.3192*W_DG**1.072\n",
    "print(W_empty)"
   ]
  },
  {
   "cell_type": "code",
   "execution_count": 11,
   "metadata": {},
   "outputs": [
    {
     "name": "stdout",
     "output_type": "stream",
     "text": [
      "0.199840446318\n"
     ]
    }
   ],
   "source": [
    "from numpy import sin\n",
    "lambda_i= 1\n",
    "lambda_mu = 5\n",
    "k=0\n",
    "alpha_s = 0\n",
    "for k in range(1,100):\n",
    "    lambda_i -= ((lambda_i ** 4-2 * lambda_i ** 3 * lambda_mu * sin(alpha_s)+(lambda_i*lambda_mu)**2-1)/(4*lambda_i ** 3-6 * lambda_i ** 2 * lambda_mu * sin(alpha_s)+2*lambda_i*lambda_mu**2))\n",
    "print(lambda_i)\n",
    "#print(k,'次计算收敛,lambda_i=',lambda_i)"
   ]
  },
  {
   "cell_type": "code",
   "execution_count": 6,
   "metadata": {},
   "outputs": [
    {
     "name": "stdout",
     "output_type": "stream",
     "text": [
      "1.9055273015069223\n421685.0495375\n"
     ]
    }
   ],
   "source": [
    "#算废阻\n",
    "\n",
    "w_mto=23500\n",
    "f=2.5*(w_mto/1000)**(2/3)\n",
    "print(f*(0.3048**2))\n",
    "v=88.3\n",
    "p=0.5*1.225*v**3\n",
    "print(p)"
   ]
  },
  {
   "cell_type": "code",
   "execution_count": 11,
   "metadata": {},
   "outputs": [
    {
     "name": "stdout",
     "output_type": "stream",
     "text": [
      "73641.7881456\n73392.20000000001\n6624.8\n0.0007712858988586391 1068740.0060853926\n0.72406\n(array([0], dtype=int64),) 3\n"
     ]
    },
    {
     "data": {
      "text/plain": [
       "0"
      ]
     },
     "execution_count": 11,
     "metadata": {},
     "output_type": "execute_result"
    }
   ],
   "source": [
    "import numpy as np\n",
    "d=np.sqrt((7484*9.8)**2+(0.5*52*52*1.225*4)**2)\n",
    "print(d)\n",
    "print(7489*9.8)\n",
    "print(0.5*52*52*1.225*4)\n",
    "mk=0.5*(7484*9.8*1.05/(0.5*1.225*8.17**2*221**2*3.14)/0.92)**1.5\n",
    "hp=0.5*1.225*8.17**2*(221**3)*3.14*mk\n",
    "print(mk,hp)\n",
    "\n",
    "h=6000\n",
    "t_air=35\n",
    "f0=(1-0.195*h/10000)*(1-0.009*(t_air-15))\n",
    "print(f0)\n",
    "a=np.array([9,5,7,8,54,3,7,98])\n",
    "c=np.where(min(a))\n",
    "print(c,min(a))\n",
    "c[0][0]"
   ]
  },
  {
   "cell_type": "code",
   "execution_count": 28,
   "metadata": {},
   "outputs": [],
   "source": [
    "from matplotlib.font_manager import FontProperties  \n",
    "import matplotlib.pyplot as plt  \n",
    "font = FontProperties(fname=r\"c:\\windows\\fonts\\simsun.ttc\", size=14)\n",
    "plt.xlabel(u\"电压差(V)\", fontproperties=font)  \n",
    "plt.ylabel(u\"介质损耗角差(度)\", fontproperties=font)  \n",
    "plt.title(u\"介质损耗角和荷电状态SOC关系图\",fontproperties=font)\n",
    "plt.show()"
   ]
  },
  {
   "cell_type": "code",
   "execution_count": 47,
   "metadata": {},
   "outputs": [],
   "source": [
    "import numpy as np\n",
    "import matplotlib.pyplot as plt\n",
    "\n",
    "\n",
    "for i in range(5):\n",
    "    plt.figure(i) # 创建图表1\n",
    "    plt.figure(i+10) # 创建图表2\n",
    "    axi = plt.subplot(i+10,1,1) # 在图表2中创建子图1\n",
    "    axi = plt.subplot(i+10,1,2) # 在图表2中创建子图2\n",
    "    x = np.linspace(0, 3, 100)\n",
    "    plt.figure(i)  #❶ # 选择图表1\n",
    "    plt.plot(x, np.exp(i*x/3))\n",
    "    plt.sca(ax1)   #❷ # 选择图表2的子图1\n",
    "    plt.plot(x, np.sin(i*x))\n",
    "    plt.sca(ax2)  # 选择图表2的子图2\n",
    "    plt.plot(x, np.cos(i*x))\n",
    "    plt.show()"
   ]
  },
  {
   "cell_type": "code",
   "execution_count": null,
   "metadata": {},
   "outputs": [],
   "source": [
    ""
   ]
  }
 ],
 "metadata": {
  "kernelspec": {
   "display_name": "Python 2",
   "language": "python",
   "name": "python2"
  },
  "language_info": {
   "codemirror_mode": {
    "name": "ipython",
    "version": 2.0
   },
   "file_extension": ".py",
   "mimetype": "text/x-python",
   "name": "python",
   "nbconvert_exporter": "python",
   "pygments_lexer": "ipython2",
   "version": "2.7.6"
  }
 },
 "nbformat": 4,
 "nbformat_minor": 0
}